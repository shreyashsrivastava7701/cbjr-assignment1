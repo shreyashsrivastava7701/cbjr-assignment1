{
  "nbformat": 4,
  "nbformat_minor": 0,
  "metadata": {
    "colab": {
      "name": "CBJR python Assignment 1.ipynb",
      "provenance": [],
      "collapsed_sections": []
    },
    "kernelspec": {
      "name": "python3",
      "display_name": "Python 3"
    },
    "language_info": {
      "name": "python"
    }
  },
  "cells": [
    {
      "cell_type": "markdown",
      "metadata": {
        "id": "vl2GRqu0TKxT"
      },
      "source": [
        "**CBJR ASSIGNMENT 1**"
      ]
    },
    {
      "cell_type": "markdown",
      "metadata": {
        "id": "FBPf5QXaTKRF"
      },
      "source": [
        "This is assigment for If Else Elif assignment by Code Blocks Jr\n",
        "- By, Shreyash Srivastava"
      ]
    },
    {
      "cell_type": "code",
      "metadata": {
        "colab": {
          "base_uri": "https://localhost:8080/"
        },
        "id": "OlXN6ZXzC8Zf",
        "outputId": "2542a860-5ff4-4d7e-e561-ade04ce58a6b"
      },
      "source": [
        "# Question 1\n",
        "length = int(input(\"Enter the length of the rectangle in cms: \"))\n",
        "breadth = int(input(\"Enter the breadth of the rectangle in cms: \"))\n",
        "\n",
        "if length == breadth:\n",
        "    print(\"It is a sqaure\")\n",
        "else:\n",
        "    print(\"It is not a square\")"
      ],
      "execution_count": null,
      "outputs": [
        {
          "output_type": "stream",
          "name": "stdout",
          "text": [
            "Enter the length of the rectangle in cms: 8\n",
            "Enter the breadth of the rectangle in cms: 8\n",
            "It is a sqaure\n"
          ]
        }
      ]
    },
    {
      "cell_type": "code",
      "metadata": {
        "colab": {
          "base_uri": "https://localhost:8080/"
        },
        "id": "EwV43NdNDBKQ",
        "outputId": "d97809db-6b96-4b35-9e01-3f39ff1d063f"
      },
      "source": [
        "# Question 2\n",
        "a = int(input(\"The first number: \"))\n",
        "b = int(input(\"The second number: \"))\n",
        "c = int(input(\"The third number: \"))\n",
        "\n",
        "if c > a and c > b:\n",
        "    print(c)\n",
        "elif b > a and b > c:\n",
        "    print(b)\n",
        "elif a > b and a > c:\n",
        "    print(a)"
      ],
      "execution_count": null,
      "outputs": [
        {
          "output_type": "stream",
          "name": "stdout",
          "text": [
            "The first number: 5\n",
            "The second number: 8\n",
            "The third number: 3\n",
            "8\n"
          ]
        }
      ]
    },
    {
      "cell_type": "code",
      "metadata": {
        "colab": {
          "base_uri": "https://localhost:8080/"
        },
        "id": "Cqbf6jadDDwN",
        "outputId": "5b20af42-db5f-4cc1-9515-5be084df0988"
      },
      "source": [
        "# Question 3 \n",
        "quantity = int(input(\"Enter the quantity: \"))\n",
        "cost = 100\n",
        "purchased = quantity*cost\n",
        "\n",
        "if purchased > 1000:\n",
        "    pay = (0.1*purchased) + purchased\n",
        "    print(\"Total Cost to pay: \", pay)\n",
        "else:\n",
        "    print(\"Total cost to pay without discount as it doesn't match criteria: \", purchased)"
      ],
      "execution_count": null,
      "outputs": [
        {
          "output_type": "stream",
          "name": "stdout",
          "text": [
            "Enter the quantity: 521\n",
            "Total Cost to pay:  57310.0\n"
          ]
        }
      ]
    },
    {
      "cell_type": "code",
      "metadata": {
        "colab": {
          "base_uri": "https://localhost:8080/"
        },
        "id": "OEri7xf3DGw3",
        "outputId": "7d32afaa-d9c1-4939-bb15-a4785fae3025"
      },
      "source": [
        "# Question 4\n",
        "salary = int(input(\"Enter your salary: \"))\n",
        "service = int(input(\"Enter your years of service: \"))\n",
        "\n",
        "if service > 5:\n",
        "    bonus = 0.05*salary\n",
        "    newsalary = (0.05*salary) + salary\n",
        "    print(\"Additional bonus: \", bonus)\n",
        "    print(\"New salary: \", newsalary)\n",
        "else:\n",
        "    print(\"Your salary won't be increased\")"
      ],
      "execution_count": null,
      "outputs": [
        {
          "output_type": "stream",
          "name": "stdout",
          "text": [
            "Enter your salary: 10000\n",
            "Enter your years of service: 6\n",
            "Additional bonus:  500.0\n",
            "New salary:  10500.0\n"
          ]
        }
      ]
    },
    {
      "cell_type": "code",
      "metadata": {
        "colab": {
          "base_uri": "https://localhost:8080/"
        },
        "id": "RIjvwhLdDJfn",
        "outputId": "6d0e7bc5-35dd-4f60-a639-7453f9dce84b"
      },
      "source": [
        "# Question 5 \n",
        "marks = int(input(\"Enter the marks obtained: \"))\n",
        "\n",
        "if marks > 80:\n",
        "    print(\"Your Grade: A\")\n",
        "if 60 < marks < 80:\n",
        "    print(\"Your Grade: B\")\n",
        "if 50 < marks < 60:\n",
        "    print(\"Your Grade: C\")\n",
        "if 45 < marks < 50:\n",
        "    print(\"Your Grade: D\")\n",
        "if 25 < marks < 45:\n",
        "    print(\"Your Grade: E\")\n",
        "if 25 > marks:\n",
        "    print(\"Your Grade: F\")"
      ],
      "execution_count": null,
      "outputs": [
        {
          "output_type": "stream",
          "name": "stdout",
          "text": [
            "Enter the marks obtained: 89\n",
            "Your Grade: A\n"
          ]
        }
      ]
    },
    {
      "cell_type": "code",
      "metadata": {
        "colab": {
          "base_uri": "https://localhost:8080/"
        },
        "id": "beZ1w4ADDMeX",
        "outputId": "04f6d603-2d91-4d47-8b9d-c67c51cced37"
      },
      "source": [
        "# Question 6\n",
        "age1 = int(input(\"Enter the first age: \"))\n",
        "age2 = int(input(\"Enter the second age: \"))\n",
        "age3 = int(input(\"Enter the third age: \"))\n",
        "\n",
        "if age3 > age1 and age3 > age2:\n",
        "    print(age3)\n",
        "elif age2 > age1 and age2 > age3:\n",
        "    print(age2)\n",
        "elif age1 > age2 and age1 > age3:\n",
        "    print(age1)"
      ],
      "execution_count": null,
      "outputs": [
        {
          "output_type": "stream",
          "name": "stdout",
          "text": [
            "Enter the first age: 30\n",
            "Enter the second age: 40\n",
            "Enter the third age: 32\n",
            "40\n"
          ]
        }
      ]
    },
    {
      "cell_type": "code",
      "metadata": {
        "colab": {
          "base_uri": "https://localhost:8080/"
        },
        "id": "nak6sDV7DPGI",
        "outputId": "80641077-3f2f-4c26-b6ea-2021a66badfe"
      },
      "source": [
        "# Question 7\n",
        "digit = int(input(\"Enter the number to check divisibilty of: \"))\n",
        "\n",
        "# Used 6 as divisibility of rule of 6 is that number should be divisible by 2 and 3 both\n",
        "if digit % 6 == 0:\n",
        "  print(\"It is divisble by 2 and 3 both\")\n",
        "else:\n",
        "  print(\"It is not divisble by 2 and 3 both\")"
      ],
      "execution_count": null,
      "outputs": [
        {
          "output_type": "stream",
          "name": "stdout",
          "text": [
            "Enter the number to check divisibilty of: 12\n",
            "It is divisble by 2 and 3 both\n"
          ]
        }
      ]
    },
    {
      "cell_type": "code",
      "metadata": {
        "colab": {
          "base_uri": "https://localhost:8080/"
        },
        "id": "VjY2ot0mDTFy",
        "outputId": "db0e00fe-bd88-4011-f526-9cdb843a767b"
      },
      "source": [
        "# OR for question 7\n",
        "digit1 = int(input(\"Enter the number to check divisibilty of: \"))\n",
        "\n",
        "if digit1 % 2 == 0 and digit1 % 3 == 0:\n",
        "  print(\"It is divisble by 2 and 3 both\")\n",
        "else:\n",
        "  print(\"It is not divisble by 2 and 3 both\")"
      ],
      "execution_count": null,
      "outputs": [
        {
          "output_type": "stream",
          "name": "stdout",
          "text": [
            "Enter the number to check divisibilty of: 12\n",
            "It is divisble by 2 and 3 both\n"
          ]
        }
      ]
    },
    {
      "cell_type": "code",
      "metadata": {
        "colab": {
          "base_uri": "https://localhost:8080/"
        },
        "id": "GLNzt0JADYbu",
        "outputId": "7c8b282e-a5db-401a-f3aa-04ec29e80ccc"
      },
      "source": [
        "# Question 8 \n",
        "num = int(input(\"Enter the number: \"))\n",
        "\n",
        "if num < 0:\n",
        "  print(\"It is a negative number\")\n",
        "else:\n",
        "  print(\"It is a positive number\")"
      ],
      "execution_count": null,
      "outputs": [
        {
          "output_type": "stream",
          "name": "stdout",
          "text": [
            "Enter the number: -6\n",
            "It is a negative number\n"
          ]
        }
      ]
    },
    {
      "cell_type": "code",
      "metadata": {
        "colab": {
          "base_uri": "https://localhost:8080/"
        },
        "id": "XSGV4cm4Dgff",
        "outputId": "fc403e8c-e9ce-4f1b-81cf-d5cdf1baf9df"
      },
      "source": [
        "# Question 9\n",
        "num1 = int(input(\"Enter the number: \"))\n",
        "\n",
        "if 99 < num1 < 1000:\n",
        "  print(\"It is a 3-digit number\")\n",
        "else:\n",
        "  print(\"It is not a 3-digit number\")"
      ],
      "execution_count": null,
      "outputs": [
        {
          "output_type": "stream",
          "name": "stdout",
          "text": [
            "Enter the number: 235\n",
            "It is a 3-digit number\n"
          ]
        }
      ]
    },
    {
      "cell_type": "code",
      "metadata": {
        "id": "lll76ESLEB3U",
        "colab": {
          "base_uri": "https://localhost:8080/"
        },
        "outputId": "23601351-18b9-43de-c995-e29af601a07d"
      },
      "source": [
        "# Question 10\n",
        "centigrade = int(input(\"Temperature in C°: \"))\n",
        "fahrenheit = (centigrade*1.8)+32  # formula is (x°C × 9/5) + 32 and 9/5 = 1.8\n",
        "\n",
        "print(\"Temperature in F°: \", fahrenheit)"
      ],
      "execution_count": null,
      "outputs": [
        {
          "output_type": "stream",
          "name": "stdout",
          "text": [
            "Temperature in C°: 10\n",
            "Temperature in F°:  50.0\n"
          ]
        }
      ]
    },
    {
      "cell_type": "code",
      "metadata": {
        "colab": {
          "base_uri": "https://localhost:8080/"
        },
        "id": "9t317F1hGcpY",
        "outputId": "4bd4d94a-2561-4490-bad4-02edbe0207f5"
      },
      "source": [
        "# Question 11\n",
        "a = int(input(\"Enter the first side of the triangle: \"))\n",
        "b = int(input(\"Enter the second side of the triangle: \"))\n",
        "c = int(input(\"Enter the third side of the triangle: \"))\n",
        "\n",
        "if (a + b > c) and (a + c > b) and (b + c > a):\n",
        "  print(\"The triangle is possible\")\n",
        "else:\n",
        "  print(\"The triangle is not possible\")"
      ],
      "execution_count": null,
      "outputs": [
        {
          "output_type": "stream",
          "name": "stdout",
          "text": [
            "Enter the first side of the triangle: 7\n",
            "Enter the second side of the triangle: 9\n",
            "Enter the third side of the triangle: 13\n",
            "The triangle is possible\n"
          ]
        }
      ]
    },
    {
      "cell_type": "code",
      "metadata": {
        "colab": {
          "base_uri": "https://localhost:8080/"
        },
        "id": "M0JbtZNxHWkz",
        "outputId": "6bdb88ed-68fb-41e8-9f87-f8d1e110238e"
      },
      "source": [
        "# Question 12\n",
        "days = int(input(\"Number of days book is issued for: \"))\n",
        "\n",
        "if days > 0 and days <= 5:\n",
        "  print(\"Pay Rs. 2 per day\")\n",
        "if days >= 6 and days <= 10:\n",
        "  print(\"Pay Rs. 3 per day\")\n",
        "if days > 10 and days <= 15:\n",
        "  print(\"Pay Rs. 4 per day\")\n",
        "if days > 15:\n",
        "  print(\"Pay Rs. 5 per day\")"
      ],
      "execution_count": null,
      "outputs": [
        {
          "output_type": "stream",
          "name": "stdout",
          "text": [
            "Number of days book is issued for: 12\n",
            "Pay Rs. 4 per day\n"
          ]
        }
      ]
    },
    {
      "cell_type": "code",
      "metadata": {
        "id": "XuTU7QPVJ_3m",
        "colab": {
          "base_uri": "https://localhost:8080/"
        },
        "outputId": "077d1ed1-07f1-4deb-faab-032c8832cfbb"
      },
      "source": [
        "# Question 13\n",
        "num2 = int(input(\"Enter the number to check if multiple of 13 and 17: \"))\n",
        "\n",
        "if num2 % 13 == 0 and num2 % 17 == 0:\n",
        "  print(\"It is divisble by 13 and 17 both\")\n",
        "else:\n",
        "  print(\"It is not divisble by 13 and 17 both\")"
      ],
      "execution_count": null,
      "outputs": [
        {
          "output_type": "stream",
          "name": "stdout",
          "text": [
            "Enter the number to check if multiple of 13 and 17: 221\n",
            "It is divisble by 13 and 17 both\n"
          ]
        }
      ]
    },
    {
      "cell_type": "code",
      "metadata": {
        "colab": {
          "base_uri": "https://localhost:8080/"
        },
        "id": "f9DfUqErRDI9",
        "outputId": "50204fe3-efd6-4676-bfbc-4d835b384710"
      },
      "source": [
        "# Question 14\n",
        "km = int(input(\"Enter the value in kilometers to convert: \"))\n",
        "m = km * 1000\n",
        "cm = km * 100000\n",
        "mm = km*1000000\n",
        "\n",
        "print(\"In Meters: \", m)\n",
        "print(\"In Centimeters: \", cm)\n",
        "print(\"In Millimeters: \", mm)"
      ],
      "execution_count": null,
      "outputs": [
        {
          "output_type": "stream",
          "name": "stdout",
          "text": [
            "Enter the value in kilometers to convert: 7\n",
            "In Meters:  7000\n",
            "In Centimeters:  700000\n",
            "In Millimeters:  7000000\n"
          ]
        }
      ]
    },
    {
      "cell_type": "code",
      "metadata": {
        "colab": {
          "base_uri": "https://localhost:8080/"
        },
        "id": "zl5_uQRKR3CT",
        "outputId": "023a4c8c-3d46-40c8-8573-caab2465ad71"
      },
      "source": [
        "# Question 15\n",
        "first = input(\"Enter your first name: \")\n",
        "last = input(\"Enter your last name: \")\n",
        "\n",
        "if len(first) == len(last):\n",
        "  print(\"Length of first name is equal to length of last name\")\n",
        "else:\n",
        "  print(\"Length of first name is not equal to length of last name\")"
      ],
      "execution_count": null,
      "outputs": [
        {
          "output_type": "stream",
          "name": "stdout",
          "text": [
            "Enter your first name: shreyash\n",
            "Enter your last name: srivastava\n",
            "Length of first name is not equal to length of last name\n"
          ]
        }
      ]
    }
  ]
}